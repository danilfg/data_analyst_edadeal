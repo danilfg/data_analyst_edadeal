{
 "cells": [
  {
   "cell_type": "code",
   "execution_count": 1,
   "metadata": {
    "ExecuteTime": {
     "end_time": "2021-02-15T09:51:25.758273Z",
     "start_time": "2021-02-15T09:51:25.754274Z"
    }
   },
   "outputs": [],
   "source": [
    "from collections import Counter"
   ]
  },
  {
   "cell_type": "code",
   "execution_count": 2,
   "metadata": {
    "ExecuteTime": {
     "end_time": "2021-02-15T09:51:27.376207Z",
     "start_time": "2021-02-15T09:51:27.362210Z"
    }
   },
   "outputs": [],
   "source": [
    "candys = ['a', 'a', 'a', 'b', 'b', 'b', 'b', 'c', 'c', 'c', 'c', 'c']\n",
    "# candys = ['a', 'b', 'c', 'a', 'b', 'c', 'c', 'c']\n",
    "# candys = ['a', 'b', 'c', 'a', 'b', 'c', 'c', 'c', 'e', 'e', 'e', 'e', 'e', 'e']\n",
    "\n",
    "# Функция для получения множителей целого числа\n",
    "def primfacs(n):\n",
    "   i = 2\n",
    "   primfac = [1]\n",
    "   while i * i <= n:\n",
    "       while n % i == 0:\n",
    "           primfac.append(i)\n",
    "           n = n / i\n",
    "       i = i + 1\n",
    "   if n > 1:\n",
    "       primfac.append(int(n))\n",
    "   return primfac\n",
    "\n",
    "# Функция для удаления дубликатов в списке\n",
    "def del_duplicate(l):\n",
    "    n = []\n",
    "    for i in l:\n",
    "        if i not in n:\n",
    "            n.append(i)\n",
    "    return n"
   ]
  },
  {
   "cell_type": "code",
   "execution_count": 3,
   "metadata": {
    "ExecuteTime": {
     "end_time": "2021-02-15T09:51:27.402213Z",
     "start_time": "2021-02-15T09:51:27.392205Z"
    },
    "scrolled": true
   },
   "outputs": [
    {
     "name": "stdout",
     "output_type": "stream",
     "text": [
      "Максимальное число друзей: 1\n"
     ]
    }
   ],
   "source": [
    "# Считаем количество каждого типа конфет\n",
    "count = []\n",
    "for i, val in enumerate(candys):\n",
    "    count.append(candys.count(val))\n",
    "    \n",
    "# Удаляем дубликаты\n",
    "numbers = del_duplicate(count)\n",
    "\n",
    "# Создаем список множителеф каждого числа\n",
    "nums = []\n",
    "for num in numbers:\n",
    "    nums.append(primfacs(num))\n",
    "\n",
    "# Находим одинаковые множители в списке списков\n",
    "for i, _ in enumerate(nums):\n",
    "    try:\n",
    "        nums[i + 1] = list((Counter(nums[i]) & Counter(nums[i + 1])).elements())\n",
    "        i += 1\n",
    "    except IndexError:\n",
    "        pass\n",
    "    \n",
    "# Выводим максимальное колдичество друзей\n",
    "print (\"Максимальное число друзей:\", max(nums[-1:][0]))"
   ]
  },
  {
   "cell_type": "code",
   "execution_count": null,
   "metadata": {},
   "outputs": [],
   "source": []
  }
 ],
 "metadata": {
  "kernelspec": {
   "display_name": "Python 3",
   "language": "python",
   "name": "python3"
  },
  "language_info": {
   "codemirror_mode": {
    "name": "ipython",
    "version": 3
   },
   "file_extension": ".py",
   "mimetype": "text/x-python",
   "name": "python",
   "nbconvert_exporter": "python",
   "pygments_lexer": "ipython3",
   "version": "3.7.6"
  },
  "varInspector": {
   "cols": {
    "lenName": 16,
    "lenType": 16,
    "lenVar": 40
   },
   "kernels_config": {
    "python": {
     "delete_cmd_postfix": "",
     "delete_cmd_prefix": "del ",
     "library": "var_list.py",
     "varRefreshCmd": "print(var_dic_list())"
    },
    "r": {
     "delete_cmd_postfix": ") ",
     "delete_cmd_prefix": "rm(",
     "library": "var_list.r",
     "varRefreshCmd": "cat(var_dic_list()) "
    }
   },
   "types_to_exclude": [
    "module",
    "function",
    "builtin_function_or_method",
    "instance",
    "_Feature"
   ],
   "window_display": false
  }
 },
 "nbformat": 4,
 "nbformat_minor": 4
}
